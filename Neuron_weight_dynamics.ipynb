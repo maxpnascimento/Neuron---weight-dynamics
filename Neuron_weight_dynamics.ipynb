{
  "nbformat": 4,
  "nbformat_minor": 0,
  "metadata": {
    "colab": {
      "name": "Neuron - weight dynamics.ipynb",
      "provenance": []
    },
    "kernelspec": {
      "name": "python3",
      "display_name": "Python 3"
    }
  },
  "cells": [
    {
      "cell_type": "markdown",
      "metadata": {
        "id": "Z3S3zMNwFF4g"
      },
      "source": [
        "# **Dynamics of the weights of an Artificial Neural Network**\n",
        "____\n",
        "\n",
        "\n",
        "author: Max Nascimento\n",
        "\n",
        "linkedin: linkedin.com/in/max-nascimento-4b19ba109\n",
        "\n",
        "email: maxpnascimento@gmail.com\n"
      ]
    },
    {
      "cell_type": "markdown",
      "metadata": {
        "id": "Diri_8rWFlHB"
      },
      "source": [
        "**Libraries**"
      ]
    },
    {
      "cell_type": "code",
      "metadata": {
        "id": "SJy9i4vyF7Rn"
      },
      "source": [
        "#Libraries\n",
        "from numpy import exp, array, random, dot "
      ],
      "execution_count": 1,
      "outputs": []
    },
    {
      "cell_type": "markdown",
      "metadata": {
        "id": "9z2ODmAIYpLl"
      },
      "source": [
        "**Activation function**"
      ]
    },
    {
      "cell_type": "code",
      "metadata": {
        "id": "zfwkO3YWgzjG"
      },
      "source": [
        "#Activation function - Sigmoid\n",
        "def sig(x): \n",
        "  return 1 / (1 + exp(-x))\n",
        "  \n",
        "#Derivative\n",
        "def sig_d(x): \n",
        "  return x * (1 - x) \n"
      ],
      "execution_count": 8,
      "outputs": []
    },
    {
      "cell_type": "markdown",
      "metadata": {
        "id": "RzCAZj2ZY4Bd"
      },
      "source": [
        "**Neuron**"
      ]
    },
    {
      "cell_type": "code",
      "metadata": {
        "id": "J1ffGtiIn8hw"
      },
      "source": [
        "#Random Number Generation\n",
        "random.seed(1)\n",
        "\n",
        "#Defined weights (randomly)\n",
        "weights = random.random((3,1))\n",
        "\n",
        "print(\"Defined weights (randomly) \\n\", weights)\n",
        "\n",
        "#Neuron output\n",
        "def output(x):\n",
        " return sig(dot(x, weights))"
      ],
      "execution_count": null,
      "outputs": []
    },
    {
      "cell_type": "markdown",
      "metadata": {
        "id": "gh18gh-6M1-J"
      },
      "source": [
        "**Train Data**\n",
        "   \n",
        "     input     output\n",
        "    0  0  1      0\n",
        "    1  1  1      1\n",
        "    1  0  1      1\n",
        "    0  1  0      0\n",
        "\n",
        "\n",
        "Looking at the data, we see that the X1 input is the most important and defines the output.\n",
        "\n"
      ]
    },
    {
      "cell_type": "code",
      "metadata": {
        "id": "38RG58nONBQe"
      },
      "source": [
        "X_Train = array([[0,0,1],\n",
        "                 [1,1,1],\n",
        "                 [1,0,1],\n",
        "                 [0,1,0]])\n",
        "\n",
        "Y_Train = array([[0],[1],[1],[0]])"
      ],
      "execution_count": 5,
      "outputs": []
    },
    {
      "cell_type": "markdown",
      "metadata": {
        "id": "Nq3AeVInmD4s"
      },
      "source": [
        "**Train**"
      ]
    },
    {
      "cell_type": "code",
      "metadata": {
        "id": "VtKujqWh2o-V"
      },
      "source": [
        "print(\"Starting Weights:        - X1:\", weights[0,0], \" X2:\", weights[1,0], \" X3:\", weights[2,0],\"\\n\")\n",
        "\n",
        "epocs = 10000                                           #Number of epochs\n",
        "i = 0\n",
        "while i <= epocs:                                       #Loop\n",
        "  Y_Predict = output(X_Train)                           #Prediction\n",
        "  loss = Y_Train - Y_Predict                            #Loss function\n",
        "  optimizer = dot(X_Train.T, loss*sig_d(Y_Predict))     #Optimizer function\n",
        "  weights = weights + optimizer                         #Optimization\n",
        "  i += 1\n",
        "  if i % 100 == 0:\n",
        "    print(\"Epocs: \", i, \"           - X1:\", weights[0,0], \" X2:\", weights[1,0], \" X3:\", weights[2,0],\"\\n\")"
      ],
      "execution_count": null,
      "outputs": []
    },
    {
      "cell_type": "markdown",
      "metadata": {
        "id": "pPqlAPSVmOLb"
      },
      "source": [
        "**Test**"
      ]
    },
    {
      "cell_type": "code",
      "metadata": {
        "id": "-j9mNoGghiXM"
      },
      "source": [
        "#Test function\n",
        "def test(x):\n",
        "  prediction = output(x)\n",
        "  if prediction > 0.5:\n",
        "    return 1\n",
        "  else:\n",
        "    return 0\n",
        "\n",
        "#Test\n",
        "print(test([1,1,1]))\n",
        "print(test([1,1,0]))\n",
        "print(test([1,0,1]))\n",
        "print(test([1,0,0]))\n",
        "print(test([0,1,1]))\n",
        "print(test([0,1,0]))\n",
        "print(test([0,0,1]))\n",
        "print(test([0,0,0]))\n",
        "\n"
      ],
      "execution_count": null,
      "outputs": []
    }
  ]
}